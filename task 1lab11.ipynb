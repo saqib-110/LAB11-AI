{
 "cells": [
  {
   "cell_type": "code",
   "execution_count": 1,
   "id": "3096dc15-0947-4a60-b74f-c2fa6ee1550f",
   "metadata": {},
   "outputs": [
    {
     "name": "stdout",
     "output_type": "stream",
     "text": [
      "Goal reached!\n",
      "Nodes explored in BFS order: ['A', 'B', 'C', 'E', 'D', 'F', 'G']\n"
     ]
    }
   ],
   "source": [
    "from collections import deque\n",
    "\n",
    "def bfs(graph, start, goal):\n",
    "    \"\"\"\n",
    "    Perform Breadth-First Search (BFS) on a graph.\n",
    "\n",
    "    Args:\n",
    "        graph (dict): The graph represented as an adjacency list.\n",
    "        start (str): The starting node.\n",
    "        goal (str): The goal node to find.\n",
    "\n",
    "    Returns:\n",
    "        list: The path of nodes explored in BFS order.\n",
    "    \"\"\"\n",
    "    if start not in graph or goal not in graph:\n",
    "        raise ValueError(\"Start or goal node not present in the graph.\")\n",
    "\n",
    "    # Initialize the queue and visited list\n",
    "    queue = deque([start])\n",
    "    visited = []\n",
    "\n",
    "    # BFS loop\n",
    "    while queue:\n",
    "        # Dequeue the first node from the queue\n",
    "        current_node = queue.popleft()\n",
    "        \n",
    "        # Skip if already visited\n",
    "        if current_node in visited:\n",
    "            continue\n",
    "\n",
    "        # Mark the current node as visited\n",
    "        visited.append(current_node)\n",
    "\n",
    "        # Check if the goal is reached\n",
    "        if current_node == goal:\n",
    "            print(\"Goal reached!\")\n",
    "            return visited\n",
    "\n",
    "        # Add unvisited neighbors to the queue\n",
    "        for neighbor in graph[current_node]:\n",
    "            if neighbor not in visited and neighbor not in queue:\n",
    "                queue.append(neighbor)\n",
    "\n",
    "    print(\"Goal not reachable.\")\n",
    "    return visited\n",
    "\n",
    "# Define the graph as an adjacency list\n",
    "graph = {\n",
    "    'A': ['B', 'C', 'E'],\n",
    "    'B': ['A', 'D', 'E'],\n",
    "    'C': ['A', 'E', 'F'],\n",
    "    'D': ['B'],\n",
    "    'E': ['A', 'B', 'C', 'F', 'G'],\n",
    "    'F': ['C', 'E'],\n",
    "    'G': ['E']\n",
    "}\n",
    "\n",
    "# Perform BFS\n",
    "start_node = 'A'\n",
    "goal_node = 'G'\n",
    "path = bfs(graph, start_node, goal_node)\n",
    "\n",
    "# Print the result\n",
    "print(\"Nodes explored in BFS order:\", path)\n"
   ]
  },
  {
   "cell_type": "code",
   "execution_count": null,
   "id": "12123dcc-e259-40db-be62-da76dc3fc2f8",
   "metadata": {},
   "outputs": [],
   "source": []
  }
 ],
 "metadata": {
  "kernelspec": {
   "display_name": "Python 3 (ipykernel)",
   "language": "python",
   "name": "python3"
  },
  "language_info": {
   "codemirror_mode": {
    "name": "ipython",
    "version": 3
   },
   "file_extension": ".py",
   "mimetype": "text/x-python",
   "name": "python",
   "nbconvert_exporter": "python",
   "pygments_lexer": "ipython3",
   "version": "3.12.7"
  }
 },
 "nbformat": 4,
 "nbformat_minor": 5
}
