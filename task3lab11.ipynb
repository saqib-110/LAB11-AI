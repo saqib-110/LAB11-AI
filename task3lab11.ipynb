{
 "cells": [
  {
   "cell_type": "code",
   "execution_count": 3,
   "id": "a1433b57-afb6-4f15-9975-c11aa4919822",
   "metadata": {},
   "outputs": [
    {
     "name": "stdin",
     "output_type": "stream",
     "text": [
      "Enter the initial state (start node):  A\n",
      "Enter the goal state (goal node):  G\n"
     ]
    },
    {
     "name": "stdout",
     "output_type": "stream",
     "text": [
      "\n",
      "DFS Execution:\n",
      "Initial State: A, Goal State: G\n",
      "\n",
      "Stack (Open List): ['A']\n",
      "Visited Nodes (Closed List): []\n",
      "\n",
      "Stack (Open List): ['E', 'C', 'B']\n",
      "Visited Nodes (Closed List): ['A']\n",
      "\n",
      "Stack (Open List): ['E', 'C', 'D']\n",
      "Visited Nodes (Closed List): ['A', 'B']\n",
      "\n",
      "Stack (Open List): ['E', 'C']\n",
      "Visited Nodes (Closed List): ['A', 'B', 'D']\n",
      "\n",
      "Stack (Open List): ['E', 'F']\n",
      "Visited Nodes (Closed List): ['A', 'B', 'D', 'C']\n",
      "\n",
      "Stack (Open List): ['E']\n",
      "Visited Nodes (Closed List): ['A', 'B', 'D', 'C', 'F']\n",
      "\n",
      "Stack (Open List): ['G']\n",
      "Visited Nodes (Closed List): ['A', 'B', 'D', 'C', 'F', 'E']\n",
      "\n",
      "Goal 'G' reached!\n",
      "\n",
      "\n",
      "Path Explored (Closed List): ['A', 'B', 'D', 'C', 'F', 'E', 'G']\n"
     ]
    }
   ],
   "source": [
    "def dfs(graph, start, goal):\n",
    "    # Initialize open and closed lists\n",
    "    open_list = [start]\n",
    "    closed_list = []\n",
    "\n",
    "    print(\"\\nDFS Execution:\")\n",
    "    print(f\"Initial State: {start}, Goal State: {goal}\")\n",
    "\n",
    "    # DFS loop\n",
    "    while open_list:\n",
    "        print(f\"\\nOpen list: {open_list}\")\n",
    "        print(f\"Closed list: {closed_list}\")\n",
    "\n",
    "        # Pop the last element (stack behavior)\n",
    "        current_node = open_list.pop()\n",
    "        closed_list.append(current_node)\n",
    "\n",
    "        # Check if the goal is reached\n",
    "        if current_node == goal:\n",
    "            print(f\"\\nGoal '{goal}' reached!\")\n",
    "            return closed_list\n",
    "\n",
    "        # Explore neighbors in reverse order for proper stack behavior\n",
    "        for neighbor in reversed(graph[current_node]):\n",
    "            if neighbor not in open_list and neighbor not in closed_list:\n",
    "                open_list.append(neighbor)\n",
    "\n",
    "    print(\"\\nGoal not reachable.\")\n",
    "    return closed_list\n",
    "\n",
    "# Define the graph as an adjacency list\n",
    "graph = {\n",
    "    'A': ['B', 'C', 'E'],\n",
    "    'B': ['A', 'D', 'E'],\n",
    "    'C': ['A', 'E', 'F'],\n",
    "    'D': ['B'],\n",
    "    'E': ['A', 'B', 'C', 'F', 'G'],\n",
    "    'F': ['C', 'E'],\n",
    "    'G': ['E']\n",
    "}\n",
    "\n",
    "# Perform DFS\n",
    "start_node = 'A'\n",
    "goal_node = 'G'\n",
    "path = dfs(graph, start_node, goal_node)\n",
    "\n",
    "# Print the final result\n",
    "print(\"\\nClosed list (path explored):\", path)\n",
    "make it better"
   ]
  },
  {
   "cell_type": "code",
   "execution_count": null,
   "id": "1bdfc37f-bad8-412a-88b2-cc3aed43b153",
   "metadata": {},
   "outputs": [],
   "source": []
  }
 ],
 "metadata": {
  "kernelspec": {
   "display_name": "Python 3 (ipykernel)",
   "language": "python",
   "name": "python3"
  },
  "language_info": {
   "codemirror_mode": {
    "name": "ipython",
    "version": 3
   },
   "file_extension": ".py",
   "mimetype": "text/x-python",
   "name": "python",
   "nbconvert_exporter": "python",
   "pygments_lexer": "ipython3",
   "version": "3.12.7"
  }
 },
 "nbformat": 4,
 "nbformat_minor": 5
}
